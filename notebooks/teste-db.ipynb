{
 "cells": [
  {
   "cell_type": "markdown",
   "metadata": {},
   "source": [
    "# CRUD básico com sqlalchemy"
   ]
  },
  {
   "cell_type": "markdown",
   "metadata": {},
   "source": [
    "## Carregando variáveis de ambiente"
   ]
  },
  {
   "cell_type": "code",
   "execution_count": 1,
   "metadata": {},
   "outputs": [],
   "source": [
    "import os\n",
    "from dotenv import find_dotenv, load_dotenv\n",
    "load_dotenv(find_dotenv())\n",
    "\n",
    "user_db = os.getenv(\"POSTGRES_USER\")\n",
    "passwd_db = os.getenv(\"POSTGRES_PASSWORD\")\n",
    "db = os.getenv(\"POSTGRES_DB\")\n",
    "host_db = os.getenv(\"POSTGRES_HOST\")\n",
    "port_db = os.getenv(\"POSTGRES_PORT\")"
   ]
  },
  {
   "cell_type": "markdown",
   "metadata": {},
   "source": [
    "## Criando engine de conexão com o banco de dados"
   ]
  },
  {
   "cell_type": "code",
   "execution_count": 2,
   "metadata": {},
   "outputs": [],
   "source": [
    "from sqlalchemy.orm import declarative_base\n",
    "from sqlalchemy import Column, Integer, String, create_engine\n",
    "\n",
    "conn = f\"postgresql://{user_db}:{passwd_db}@{host_db}:{port_db}/{db}\"\n",
    "engine = create_engine(conn, echo=True)"
   ]
  },
  {
   "cell_type": "code",
   "execution_count": 3,
   "metadata": {},
   "outputs": [],
   "source": [
    "Base = declarative_base()"
   ]
  },
  {
   "cell_type": "code",
   "execution_count": 4,
   "metadata": {},
   "outputs": [],
   "source": [
    "class User(Base):\n",
    "    __tablename__ = 'users'\n",
    "    id = Column(Integer, primary_key=True)\n",
    "    username = Column(String)\n",
    "    password = Column(String)"
   ]
  },
  {
   "cell_type": "code",
   "execution_count": 5,
   "metadata": {},
   "outputs": [
    {
     "name": "stdout",
     "output_type": "stream",
     "text": [
      "2024-02-22 14:51:38,641 INFO sqlalchemy.engine.Engine select pg_catalog.version()\n",
      "2024-02-22 14:51:38,642 INFO sqlalchemy.engine.Engine [raw sql] {}\n",
      "2024-02-22 14:51:38,643 INFO sqlalchemy.engine.Engine select current_schema()\n",
      "2024-02-22 14:51:38,644 INFO sqlalchemy.engine.Engine [raw sql] {}\n",
      "2024-02-22 14:51:38,645 INFO sqlalchemy.engine.Engine show standard_conforming_strings\n",
      "2024-02-22 14:51:38,645 INFO sqlalchemy.engine.Engine [raw sql] {}\n",
      "2024-02-22 14:51:38,646 INFO sqlalchemy.engine.Engine BEGIN (implicit)\n",
      "2024-02-22 14:51:38,648 INFO sqlalchemy.engine.Engine SELECT pg_catalog.pg_class.relname \n",
      "FROM pg_catalog.pg_class JOIN pg_catalog.pg_namespace ON pg_catalog.pg_namespace.oid = pg_catalog.pg_class.relnamespace \n",
      "WHERE pg_catalog.pg_class.relname = %(table_name)s AND pg_catalog.pg_class.relkind = ANY (ARRAY[%(param_1)s, %(param_2)s, %(param_3)s, %(param_4)s, %(param_5)s]) AND pg_catalog.pg_table_is_visible(pg_catalog.pg_class.oid) AND pg_catalog.pg_namespace.nspname != %(nspname_1)s\n",
      "2024-02-22 14:51:38,649 INFO sqlalchemy.engine.Engine [generated in 0.00045s] {'table_name': 'users', 'param_1': 'r', 'param_2': 'p', 'param_3': 'f', 'param_4': 'v', 'param_5': 'm', 'nspname_1': 'pg_catalog'}\n",
      "2024-02-22 14:51:38,651 INFO sqlalchemy.engine.Engine \n",
      "CREATE TABLE users (\n",
      "\tid SERIAL NOT NULL, \n",
      "\tusername VARCHAR, \n",
      "\tpassword VARCHAR, \n",
      "\tPRIMARY KEY (id)\n",
      ")\n",
      "\n",
      "\n",
      "2024-02-22 14:51:38,651 INFO sqlalchemy.engine.Engine [no key 0.00057s] {}\n",
      "2024-02-22 14:51:38,655 INFO sqlalchemy.engine.Engine COMMIT\n"
     ]
    }
   ],
   "source": [
    "Base.metadata.create_all(engine)"
   ]
  },
  {
   "cell_type": "markdown",
   "metadata": {},
   "source": [
    "## Inserir um usuário no banco de dados"
   ]
  },
  {
   "cell_type": "code",
   "execution_count": 8,
   "metadata": {},
   "outputs": [
    {
     "name": "stdout",
     "output_type": "stream",
     "text": [
      "2024-02-22 14:56:38,588 INFO sqlalchemy.engine.Engine BEGIN (implicit)\n",
      "2024-02-22 14:56:38,590 INFO sqlalchemy.engine.Engine INSERT INTO users (username, password) VALUES (%(username)s, %(password)s) RETURNING users.id\n",
      "2024-02-22 14:56:38,591 INFO sqlalchemy.engine.Engine [generated in 0.00049s] {'username': 'admin', 'password': 'admin'}\n",
      "2024-02-22 14:56:38,592 INFO sqlalchemy.engine.Engine COMMIT\n"
     ]
    }
   ],
   "source": [
    "from sqlalchemy.orm import sessionmaker\n",
    "Session = sessionmaker(bind=engine)\n",
    "session = Session()\n",
    "\n",
    "user = User(username='admin', password='admin')\n",
    "session.add(user)\n",
    "session.commit()"
   ]
  },
  {
   "cell_type": "code",
   "execution_count": 9,
   "metadata": {},
   "outputs": [
    {
     "name": "stdout",
     "output_type": "stream",
     "text": [
      "2024-02-22 14:59:05,916 INFO sqlalchemy.engine.Engine BEGIN (implicit)\n",
      "2024-02-22 14:59:05,918 INFO sqlalchemy.engine.Engine INSERT INTO users (username, password) SELECT p0::VARCHAR, p1::VARCHAR FROM (VALUES (%(username__0)s, %(password__0)s, 0), (%(username__1)s, %(password__1)s, 1), (%(username__2)s, %(password__2)s, 2), (%(username__3)s, %(password__3)s, 3), (%(username__4)s, %(password__4)s, 4)) AS imp_sen(p0, p1, sen_counter) ORDER BY sen_counter RETURNING users.id, users.id AS id__1\n",
      "2024-02-22 14:59:05,919 INFO sqlalchemy.engine.Engine [generated in 0.00013s (insertmanyvalues) 1/1 (ordered)] {'username__0': 'user1', 'password__0': 'user1', 'username__1': 'user2', 'password__1': 'user2', 'username__2': 'user3', 'password__2': 'user3', 'username__3': 'user4', 'password__3': 'user4', 'username__4': 'user5', 'password__4': 'user5'}\n",
      "2024-02-22 14:59:05,921 INFO sqlalchemy.engine.Engine COMMIT\n"
     ]
    }
   ],
   "source": [
    "# Inserir vários usuários\n",
    "\n",
    "users = [\n",
    "    User(username='user1', password='user1'),\n",
    "    User(username='user2', password='user2'),\n",
    "    User(username='user3', password='user3'),\n",
    "    User(username='user4', password='user4'),\n",
    "    User(username='user5', password='user5'),\n",
    "]\n",
    "\n",
    "session.add_all(users)\n",
    "session.commit()"
   ]
  },
  {
   "cell_type": "markdown",
   "metadata": {},
   "source": [
    "## Consultar na tabela"
   ]
  },
  {
   "cell_type": "code",
   "execution_count": 13,
   "metadata": {},
   "outputs": [
    {
     "name": "stdout",
     "output_type": "stream",
     "text": [
      "2024-02-22 15:02:58,620 INFO sqlalchemy.engine.Engine SELECT users.id AS users_id, users.username AS users_username, users.password AS users_password \n",
      "FROM users\n",
      "2024-02-22 15:02:58,621 INFO sqlalchemy.engine.Engine [cached since 42.54s ago] {}\n",
      "admin admin\n",
      "user1 user1\n",
      "user2 user2\n",
      "user3 user3\n",
      "user4 user4\n",
      "user5 user5\n"
     ]
    }
   ],
   "source": [
    "# listar todos\n",
    "\n",
    "query_users = session.query(User).all()\n",
    "for user in query_users:\n",
    "    print(user.username, user.password)"
   ]
  },
  {
   "cell_type": "code",
   "execution_count": 17,
   "metadata": {},
   "outputs": [
    {
     "name": "stdout",
     "output_type": "stream",
     "text": [
      "2024-02-22 15:04:04,487 INFO sqlalchemy.engine.Engine SELECT users.id AS users_id, users.username AS users_username, users.password AS users_password \n",
      "FROM users \n",
      "WHERE users.username = %(username_1)s \n",
      " LIMIT %(param_1)s\n",
      "2024-02-22 15:04:04,488 INFO sqlalchemy.engine.Engine [cached since 45.02s ago] {'username_1': 'admin', 'param_1': 1}\n",
      "admin admin\n"
     ]
    }
   ],
   "source": [
    "# filtrando por username\n",
    "\n",
    "query_users = session.query(User).filter(User.username == 'admin').first()\n",
    "print(query_users.username, query_users.password)"
   ]
  },
  {
   "cell_type": "markdown",
   "metadata": {},
   "source": [
    "## Atualizar um usuário"
   ]
  },
  {
   "cell_type": "code",
   "execution_count": 19,
   "metadata": {},
   "outputs": [
    {
     "name": "stdout",
     "output_type": "stream",
     "text": [
      "2024-02-22 15:07:25,851 INFO sqlalchemy.engine.Engine SELECT users.id AS users_id, users.username AS users_username, users.password AS users_password \n",
      "FROM users \n",
      "WHERE users.username = %(username_1)s \n",
      " LIMIT %(param_1)s\n",
      "2024-02-22 15:07:25,852 INFO sqlalchemy.engine.Engine [cached since 246.4s ago] {'username_1': 'admin', 'param_1': 1}\n",
      "2024-02-22 15:07:25,854 INFO sqlalchemy.engine.Engine UPDATE users SET password=%(password)s WHERE users.id = %(users_id)s\n",
      "2024-02-22 15:07:25,854 INFO sqlalchemy.engine.Engine [generated in 0.00042s] {'password': 'newpassword', 'users_id': 1}\n",
      "2024-02-22 15:07:25,855 INFO sqlalchemy.engine.Engine COMMIT\n"
     ]
    }
   ],
   "source": [
    "user.username\n",
    "\n",
    "# Atualizando\n",
    "\n",
    "query_users = session.query(User).filter(User.username == 'admin').first()\n",
    "query_users.password = 'newpassword'\n",
    "session.commit()"
   ]
  },
  {
   "cell_type": "code",
   "execution_count": 22,
   "metadata": {},
   "outputs": [
    {
     "name": "stdout",
     "output_type": "stream",
     "text": [
      "2024-02-22 15:08:04,601 INFO sqlalchemy.engine.Engine SELECT users.id AS users_id, users.username AS users_username, users.password AS users_password \n",
      "FROM users \n",
      "WHERE users.username = %(username_1)s \n",
      " LIMIT %(param_1)s\n",
      "2024-02-22 15:08:04,601 INFO sqlalchemy.engine.Engine [cached since 285.1s ago] {'username_1': 'admin', 'param_1': 1}\n",
      "admin newpassword\n"
     ]
    }
   ],
   "source": [
    "query_users = session.query(User).filter(User.username == 'admin').first()\n",
    "print(query_users.username, query_users.password)"
   ]
  },
  {
   "cell_type": "markdown",
   "metadata": {},
   "source": [
    "## Apagar um usuário"
   ]
  },
  {
   "cell_type": "code",
   "execution_count": 23,
   "metadata": {},
   "outputs": [
    {
     "name": "stdout",
     "output_type": "stream",
     "text": [
      "2024-02-22 15:09:25,752 INFO sqlalchemy.engine.Engine SELECT users.id AS users_id, users.username AS users_username, users.password AS users_password \n",
      "FROM users \n",
      "WHERE users.username = %(username_1)s \n",
      " LIMIT %(param_1)s\n",
      "2024-02-22 15:09:25,753 INFO sqlalchemy.engine.Engine [cached since 366.3s ago] {'username_1': 'user3', 'param_1': 1}\n",
      "2024-02-22 15:09:25,754 INFO sqlalchemy.engine.Engine DELETE FROM users WHERE users.id = %(id)s\n",
      "2024-02-22 15:09:25,754 INFO sqlalchemy.engine.Engine [generated in 0.00035s] {'id': 4}\n",
      "2024-02-22 15:09:25,755 INFO sqlalchemy.engine.Engine COMMIT\n"
     ]
    }
   ],
   "source": [
    "# Apagar o usuário 3\n",
    "\n",
    "query_users = session.query(User).filter(User.username == 'user3').first()\n",
    "session.delete(query_users)\n",
    "session.commit()"
   ]
  },
  {
   "cell_type": "code",
   "execution_count": 24,
   "metadata": {},
   "outputs": [
    {
     "name": "stdout",
     "output_type": "stream",
     "text": [
      "2024-02-22 15:09:37,911 INFO sqlalchemy.engine.Engine BEGIN (implicit)\n",
      "2024-02-22 15:09:37,912 INFO sqlalchemy.engine.Engine SELECT users.id AS users_id, users.username AS users_username, users.password AS users_password \n",
      "FROM users\n",
      "2024-02-22 15:09:37,912 INFO sqlalchemy.engine.Engine [cached since 441.8s ago] {}\n",
      "user1 user1\n",
      "user2 user2\n",
      "user4 user4\n",
      "user5 user5\n",
      "admin newpassword\n"
     ]
    }
   ],
   "source": [
    "query_users = session.query(User).all()\n",
    "for user in query_users:\n",
    "    print(user.username, user.password)"
   ]
  }
 ],
 "metadata": {
  "kernelspec": {
   "display_name": "db-projects-EhthAmqU-py3.10",
   "language": "python",
   "name": "python3"
  },
  "language_info": {
   "codemirror_mode": {
    "name": "ipython",
    "version": 3
   },
   "file_extension": ".py",
   "mimetype": "text/x-python",
   "name": "python",
   "nbconvert_exporter": "python",
   "pygments_lexer": "ipython3",
   "version": "3.10.12"
  }
 },
 "nbformat": 4,
 "nbformat_minor": 2
}
